{
 "cells": [
  {
   "cell_type": "code",
   "execution_count": 16,
   "metadata": {},
   "outputs": [],
   "source": [
    "# import required library\n",
    "import pandas as pd\n",
    "import nltk\n",
    "import re"
   ]
  },
  {
   "cell_type": "code",
   "execution_count": 2,
   "metadata": {},
   "outputs": [
    {
     "data": {
      "text/html": [
       "<div>\n",
       "<style scoped>\n",
       "    .dataframe tbody tr th:only-of-type {\n",
       "        vertical-align: middle;\n",
       "    }\n",
       "\n",
       "    .dataframe tbody tr th {\n",
       "        vertical-align: top;\n",
       "    }\n",
       "\n",
       "    .dataframe thead th {\n",
       "        text-align: right;\n",
       "    }\n",
       "</style>\n",
       "<table border=\"1\" class=\"dataframe\">\n",
       "  <thead>\n",
       "    <tr style=\"text-align: right;\">\n",
       "      <th></th>\n",
       "      <th>name</th>\n",
       "      <th>price</th>\n",
       "      <th>specification</th>\n",
       "      <th>description</th>\n",
       "    </tr>\n",
       "  </thead>\n",
       "  <tbody>\n",
       "    <tr>\n",
       "      <th>0</th>\n",
       "      <td>Brown Brush Painted and Printed Cotton Coaty</td>\n",
       "      <td>As low asTk 1,818.60</td>\n",
       "      <td>['Cotton', 'Screen Print', 'Band Collar', 'Fro...</td>\n",
       "      <td>Brown brush painted cotton coaty with black pr...</td>\n",
       "    </tr>\n",
       "    <tr>\n",
       "      <th>1</th>\n",
       "      <td>Multicolour Textured Cotton Coaty</td>\n",
       "      <td>As low asTk 1,334.88</td>\n",
       "      <td>['Cotton', 'Band Collar', 'Sleeveless', 'Hand ...</td>\n",
       "      <td>Dusty pink, maroon and black textured cotton c...</td>\n",
       "    </tr>\n",
       "    <tr>\n",
       "      <th>2</th>\n",
       "      <td>Teal Blue Embroidered Endi Silk Panjabi</td>\n",
       "      <td>As low asTk 10,195.35</td>\n",
       "      <td>['Endi Silk', 'Exclusive Hand Embroidery', 'Ba...</td>\n",
       "      <td>Teal blue endi silk panjabi with plum embroide...</td>\n",
       "    </tr>\n",
       "    <tr>\n",
       "      <th>3</th>\n",
       "      <td>Purple Embroidered Endi Silk Panjabi</td>\n",
       "      <td>As low asTk 7,967.44</td>\n",
       "      <td>['Endi Silk', 'Hand Embroidery', 'Band Collar'...</td>\n",
       "      <td>Purple endi silk panjabi with blue embroidery....</td>\n",
       "    </tr>\n",
       "    <tr>\n",
       "      <th>4</th>\n",
       "      <td>Persian Plum Cotton Slim Fit Panjabi Pajama Set</td>\n",
       "      <td>As low asTk 4,613.95</td>\n",
       "      <td>['Brown', 'Cotton', 'Cotton', 'Hand Embroidery...</td>\n",
       "      <td>Persian plum textured cotton slim fit panjabi ...</td>\n",
       "    </tr>\n",
       "  </tbody>\n",
       "</table>\n",
       "</div>"
      ],
      "text/plain": [
       "                                              name                  price  \\\n",
       "0     Brown Brush Painted and Printed Cotton Coaty   As low asTk 1,818.60   \n",
       "1                Multicolour Textured Cotton Coaty   As low asTk 1,334.88   \n",
       "2          Teal Blue Embroidered Endi Silk Panjabi  As low asTk 10,195.35   \n",
       "3             Purple Embroidered Endi Silk Panjabi   As low asTk 7,967.44   \n",
       "4  Persian Plum Cotton Slim Fit Panjabi Pajama Set   As low asTk 4,613.95   \n",
       "\n",
       "                                       specification  \\\n",
       "0  ['Cotton', 'Screen Print', 'Band Collar', 'Fro...   \n",
       "1  ['Cotton', 'Band Collar', 'Sleeveless', 'Hand ...   \n",
       "2  ['Endi Silk', 'Exclusive Hand Embroidery', 'Ba...   \n",
       "3  ['Endi Silk', 'Hand Embroidery', 'Band Collar'...   \n",
       "4  ['Brown', 'Cotton', 'Cotton', 'Hand Embroidery...   \n",
       "\n",
       "                                         description  \n",
       "0  Brown brush painted cotton coaty with black pr...  \n",
       "1  Dusty pink, maroon and black textured cotton c...  \n",
       "2  Teal blue endi silk panjabi with plum embroide...  \n",
       "3  Purple endi silk panjabi with blue embroidery....  \n",
       "4  Persian plum textured cotton slim fit panjabi ...  "
      ]
     },
     "execution_count": 2,
     "metadata": {},
     "output_type": "execute_result"
    }
   ],
   "source": [
    "# read the outfits.csv dataset\n",
    "df = pd.read_csv('outfits.csv')\n",
    "df.head()"
   ]
  },
  {
   "cell_type": "code",
   "execution_count": 15,
   "metadata": {},
   "outputs": [
    {
     "data": {
      "text/html": [
       "<div>\n",
       "<style scoped>\n",
       "    .dataframe tbody tr th:only-of-type {\n",
       "        vertical-align: middle;\n",
       "    }\n",
       "\n",
       "    .dataframe tbody tr th {\n",
       "        vertical-align: top;\n",
       "    }\n",
       "\n",
       "    .dataframe thead th {\n",
       "        text-align: right;\n",
       "    }\n",
       "</style>\n",
       "<table border=\"1\" class=\"dataframe\">\n",
       "  <thead>\n",
       "    <tr style=\"text-align: right;\">\n",
       "      <th></th>\n",
       "      <th>price</th>\n",
       "      <th>specification</th>\n",
       "    </tr>\n",
       "  </thead>\n",
       "  <tbody>\n",
       "    <tr>\n",
       "      <th>0</th>\n",
       "      <td>As low asTk 1818.60</td>\n",
       "      <td>Cotton Screen Print Band Collar Front Pocket S...</td>\n",
       "    </tr>\n",
       "    <tr>\n",
       "      <th>1</th>\n",
       "      <td>As low asTk 1334.88</td>\n",
       "      <td>Cotton Band Collar Sleeveless Hand Wash With M...</td>\n",
       "    </tr>\n",
       "    <tr>\n",
       "      <th>2</th>\n",
       "      <td>As low asTk 10195.35</td>\n",
       "      <td>Endi Silk Exclusive Hand Embroidery Band Colla...</td>\n",
       "    </tr>\n",
       "    <tr>\n",
       "      <th>3</th>\n",
       "      <td>As low asTk 7967.44</td>\n",
       "      <td>Endi Silk Hand Embroidery Band Collar Side Poc...</td>\n",
       "    </tr>\n",
       "    <tr>\n",
       "      <th>4</th>\n",
       "      <td>As low asTk 4613.95</td>\n",
       "      <td>Brown Cotton Cotton Hand Embroidery Chino Pant...</td>\n",
       "    </tr>\n",
       "  </tbody>\n",
       "</table>\n",
       "</div>"
      ],
      "text/plain": [
       "                  price                                      specification\n",
       "0   As low asTk 1818.60  Cotton Screen Print Band Collar Front Pocket S...\n",
       "1   As low asTk 1334.88  Cotton Band Collar Sleeveless Hand Wash With M...\n",
       "2  As low asTk 10195.35  Endi Silk Exclusive Hand Embroidery Band Colla...\n",
       "3   As low asTk 7967.44  Endi Silk Hand Embroidery Band Collar Side Poc...\n",
       "4   As low asTk 4613.95  Brown Cotton Cotton Hand Embroidery Chino Pant..."
      ]
     },
     "execution_count": 15,
     "metadata": {},
     "output_type": "execute_result"
    }
   ],
   "source": [
    "# remove all the punctuation mark\n",
    "df['specification'] = df['specification'].str.replace('[','').str.replace(']','').str.replace(\"'\", \"\").str.replace(',','')\n",
    "df['price'] = df['price'].str.replace(',','')\n",
    "df[['price','specification']][:5]"
   ]
  },
  {
   "cell_type": "code",
   "execution_count": 25,
   "metadata": {},
   "outputs": [
    {
     "data": {
      "text/plain": [
       "1819"
      ]
     },
     "execution_count": 25,
     "metadata": {},
     "output_type": "execute_result"
    }
   ],
   "source": [
    "# define a function to extract only price \n",
    "text = 'As low asTk 1818.60' # for testing function\n",
    "def digit(x):\n",
    "    y = re.sub(r'\\D+', '', x)\n",
    "    round_digit = round(float(y)/100)\n",
    "  \n",
    "    return round_digit\n",
    "digit(text)"
   ]
  },
  {
   "cell_type": "code",
   "execution_count": 28,
   "metadata": {},
   "outputs": [],
   "source": [
    "# restore the price \n",
    "df['price'] = df['price'].apply(digit)"
   ]
  },
  {
   "cell_type": "code",
   "execution_count": 83,
   "metadata": {},
   "outputs": [
    {
     "name": "stdout",
     "output_type": "stream",
     "text": [
      "420\n"
     ]
    },
    {
     "data": {
      "text/html": [
       "<div>\n",
       "<style scoped>\n",
       "    .dataframe tbody tr th:only-of-type {\n",
       "        vertical-align: middle;\n",
       "    }\n",
       "\n",
       "    .dataframe tbody tr th {\n",
       "        vertical-align: top;\n",
       "    }\n",
       "\n",
       "    .dataframe thead th {\n",
       "        text-align: right;\n",
       "    }\n",
       "</style>\n",
       "<table border=\"1\" class=\"dataframe\">\n",
       "  <thead>\n",
       "    <tr style=\"text-align: right;\">\n",
       "      <th></th>\n",
       "      <th>name</th>\n",
       "      <th>price</th>\n",
       "      <th>specification</th>\n",
       "      <th>description</th>\n",
       "    </tr>\n",
       "  </thead>\n",
       "  <tbody>\n",
       "    <tr>\n",
       "      <th>83</th>\n",
       "      <td>Beige/Grey Printed and Embroidered Endi Silk P...</td>\n",
       "      <td>7135</td>\n",
       "      <td>Endi Silk Erri Embroidery Band Collar Side Poc...</td>\n",
       "      <td>Beige and grey printed endi silk panjabi with ...</td>\n",
       "    </tr>\n",
       "    <tr>\n",
       "      <th>187</th>\n",
       "      <td>Orange Printed Satin Cotton Short Kurta</td>\n",
       "      <td>1609</td>\n",
       "      <td>Satin Band Collar Side Pocket Side Open Full S...</td>\n",
       "      <td>Orange printed satin cotton short kurta. Featu...</td>\n",
       "    </tr>\n",
       "    <tr>\n",
       "      <th>350</th>\n",
       "      <td>Red Panama Heritage Theme Shalwar Kameez Set</td>\n",
       "      <td>10698</td>\n",
       "      <td>Silk Hand Embroidery Long Round Neck Open 3-Qu...</td>\n",
       "      <td>Red silk kameez with golden and beige embroide...</td>\n",
       "    </tr>\n",
       "    <tr>\n",
       "      <th>198</th>\n",
       "      <td>Black Printed Cotton Coaty</td>\n",
       "      <td>888</td>\n",
       "      <td>Cotton Screen Print Band Collar Sleeveless Sho...</td>\n",
       "      <td>Black cotton coaty with grey prints. Features ...</td>\n",
       "    </tr>\n",
       "    <tr>\n",
       "      <th>87</th>\n",
       "      <td>Dark Plum Embroidered Viscose-Cotton Panjabi</td>\n",
       "      <td>2144</td>\n",
       "      <td>Viscott (Viscose &amp; Cotton) Hand Embroidery Ban...</td>\n",
       "      <td>Dark plum textured viscose-cotton panjabi with...</td>\n",
       "    </tr>\n",
       "    <tr>\n",
       "      <th>371</th>\n",
       "      <td>Watermelon Embroidered Punching Block Beauty T...</td>\n",
       "      <td>4651</td>\n",
       "      <td>Viscose Hand Embroidery Long High Collar Open ...</td>\n",
       "      <td>Watermelon printed viscose kameez with red and...</td>\n",
       "    </tr>\n",
       "    <tr>\n",
       "      <th>300</th>\n",
       "      <td>Golden Velvet Purse</td>\n",
       "      <td>881</td>\n",
       "      <td>Red Faux Leather Laser Cut 13 27.5 3.5 Divider...</td>\n",
       "      <td>Red velvet purse with golden faux leather pane...</td>\n",
       "    </tr>\n",
       "    <tr>\n",
       "      <th>223</th>\n",
       "      <td>Pink/White Printed Mixed Cotton Frock</td>\n",
       "      <td>1219</td>\n",
       "      <td>Mixed Cotton V Neck Cap Sleeve Long Hand Wash ...</td>\n",
       "      <td>Pink and white mixed cotton frock with orange,...</td>\n",
       "    </tr>\n",
       "    <tr>\n",
       "      <th>132</th>\n",
       "      <td>Pink Striped Cotton Slim Fit Short Kurta</td>\n",
       "      <td>791</td>\n",
       "      <td>Cotton Band Collar Side Pocket Side Open Full ...</td>\n",
       "      <td>Pink and white striped cotton slim fit short k...</td>\n",
       "    </tr>\n",
       "    <tr>\n",
       "      <th>200</th>\n",
       "      <td>Grey Printed Cotton Shirt</td>\n",
       "      <td>460</td>\n",
       "      <td>Cotton Screen Print Shirt Collar Half Sleeve C...</td>\n",
       "      <td>Grey cotton shirt with blue, red, grey and yel...</td>\n",
       "    </tr>\n",
       "  </tbody>\n",
       "</table>\n",
       "</div>"
      ],
      "text/plain": [
       "                                                  name  price  \\\n",
       "83   Beige/Grey Printed and Embroidered Endi Silk P...   7135   \n",
       "187            Orange Printed Satin Cotton Short Kurta   1609   \n",
       "350       Red Panama Heritage Theme Shalwar Kameez Set  10698   \n",
       "198                         Black Printed Cotton Coaty    888   \n",
       "87        Dark Plum Embroidered Viscose-Cotton Panjabi   2144   \n",
       "371  Watermelon Embroidered Punching Block Beauty T...   4651   \n",
       "300                                Golden Velvet Purse    881   \n",
       "223              Pink/White Printed Mixed Cotton Frock   1219   \n",
       "132           Pink Striped Cotton Slim Fit Short Kurta    791   \n",
       "200                          Grey Printed Cotton Shirt    460   \n",
       "\n",
       "                                         specification  \\\n",
       "83   Endi Silk Erri Embroidery Band Collar Side Poc...   \n",
       "187  Satin Band Collar Side Pocket Side Open Full S...   \n",
       "350  Silk Hand Embroidery Long Round Neck Open 3-Qu...   \n",
       "198  Cotton Screen Print Band Collar Sleeveless Sho...   \n",
       "87   Viscott (Viscose & Cotton) Hand Embroidery Ban...   \n",
       "371  Viscose Hand Embroidery Long High Collar Open ...   \n",
       "300  Red Faux Leather Laser Cut 13 27.5 3.5 Divider...   \n",
       "223  Mixed Cotton V Neck Cap Sleeve Long Hand Wash ...   \n",
       "132  Cotton Band Collar Side Pocket Side Open Full ...   \n",
       "200  Cotton Screen Print Shirt Collar Half Sleeve C...   \n",
       "\n",
       "                                           description  \n",
       "83   Beige and grey printed endi silk panjabi with ...  \n",
       "187  Orange printed satin cotton short kurta. Featu...  \n",
       "350  Red silk kameez with golden and beige embroide...  \n",
       "198  Black cotton coaty with grey prints. Features ...  \n",
       "87   Dark plum textured viscose-cotton panjabi with...  \n",
       "371  Watermelon printed viscose kameez with red and...  \n",
       "300  Red velvet purse with golden faux leather pane...  \n",
       "223  Pink and white mixed cotton frock with orange,...  \n",
       "132  Pink and white striped cotton slim fit short k...  \n",
       "200  Grey cotton shirt with blue, red, grey and yel...  "
      ]
     },
     "execution_count": 83,
     "metadata": {},
     "output_type": "execute_result"
    }
   ],
   "source": [
    "# check and drop duplicates and store it in a new dataframe as filtered_df\n",
    "filtered_df = df.drop_duplicates()\n",
    "print(len(filtered_df['name']))\n",
    "filtered_df.sample(10)"
   ]
  },
  {
   "cell_type": "code",
   "execution_count": 31,
   "metadata": {},
   "outputs": [
    {
     "name": "stdout",
     "output_type": "stream",
     "text": [
      "<class 'pandas.core.frame.DataFrame'>\n",
      "Index: 420 entries, 0 to 421\n",
      "Data columns (total 4 columns):\n",
      " #   Column         Non-Null Count  Dtype \n",
      "---  ------         --------------  ----- \n",
      " 0   name           420 non-null    object\n",
      " 1   price          420 non-null    int64 \n",
      " 2   specification  420 non-null    object\n",
      " 3   description    420 non-null    object\n",
      "dtypes: int64(1), object(3)\n",
      "memory usage: 16.4+ KB\n"
     ]
    }
   ],
   "source": [
    "# check information of the new dataframe\n",
    "filtered_df.info()"
   ]
  },
  {
   "cell_type": "code",
   "execution_count": 41,
   "metadata": {},
   "outputs": [
    {
     "name": "stderr",
     "output_type": "stream",
     "text": [
      "C:\\Users\\WCS\\AppData\\Local\\Temp\\ipykernel_5784\\4159208719.py:1: SettingWithCopyWarning: \n",
      "A value is trying to be set on a copy of a slice from a DataFrame.\n",
      "Try using .loc[row_indexer,col_indexer] = value instead\n",
      "\n",
      "See the caveats in the documentation: https://pandas.pydata.org/pandas-docs/stable/user_guide/indexing.html#returning-a-view-versus-a-copy\n",
      "  filtered_df['all_feature'] = filtered_df['price'].astype(str) + ' ' + filtered_df['specification'] + ' ' + filtered_df['description']\n"
     ]
    },
    {
     "data": {
      "text/html": [
       "<div>\n",
       "<style scoped>\n",
       "    .dataframe tbody tr th:only-of-type {\n",
       "        vertical-align: middle;\n",
       "    }\n",
       "\n",
       "    .dataframe tbody tr th {\n",
       "        vertical-align: top;\n",
       "    }\n",
       "\n",
       "    .dataframe thead th {\n",
       "        text-align: right;\n",
       "    }\n",
       "</style>\n",
       "<table border=\"1\" class=\"dataframe\">\n",
       "  <thead>\n",
       "    <tr style=\"text-align: right;\">\n",
       "      <th></th>\n",
       "      <th>name</th>\n",
       "      <th>price</th>\n",
       "      <th>specification</th>\n",
       "      <th>description</th>\n",
       "      <th>all_feature</th>\n",
       "    </tr>\n",
       "  </thead>\n",
       "  <tbody>\n",
       "    <tr>\n",
       "      <th>0</th>\n",
       "      <td>Brown Brush Painted and Printed Cotton Coaty</td>\n",
       "      <td>1819</td>\n",
       "      <td>Cotton Screen Print Band Collar Front Pocket S...</td>\n",
       "      <td>Brown brush painted cotton coaty with black pr...</td>\n",
       "      <td>1819 Cotton Screen Print Band Collar Front Poc...</td>\n",
       "    </tr>\n",
       "    <tr>\n",
       "      <th>1</th>\n",
       "      <td>Multicolour Textured Cotton Coaty</td>\n",
       "      <td>1335</td>\n",
       "      <td>Cotton Band Collar Sleeveless Hand Wash With M...</td>\n",
       "      <td>Dusty pink, maroon and black textured cotton c...</td>\n",
       "      <td>1335 Cotton Band Collar Sleeveless Hand Wash W...</td>\n",
       "    </tr>\n",
       "    <tr>\n",
       "      <th>2</th>\n",
       "      <td>Teal Blue Embroidered Endi Silk Panjabi</td>\n",
       "      <td>10195</td>\n",
       "      <td>Endi Silk Exclusive Hand Embroidery Band Colla...</td>\n",
       "      <td>Teal blue endi silk panjabi with plum embroide...</td>\n",
       "      <td>10195 Endi Silk Exclusive Hand Embroidery Band...</td>\n",
       "    </tr>\n",
       "    <tr>\n",
       "      <th>3</th>\n",
       "      <td>Purple Embroidered Endi Silk Panjabi</td>\n",
       "      <td>7967</td>\n",
       "      <td>Endi Silk Hand Embroidery Band Collar Side Poc...</td>\n",
       "      <td>Purple endi silk panjabi with blue embroidery....</td>\n",
       "      <td>7967 Endi Silk Hand Embroidery Band Collar Sid...</td>\n",
       "    </tr>\n",
       "    <tr>\n",
       "      <th>4</th>\n",
       "      <td>Persian Plum Cotton Slim Fit Panjabi Pajama Set</td>\n",
       "      <td>4614</td>\n",
       "      <td>Brown Cotton Cotton Hand Embroidery Chino Pant...</td>\n",
       "      <td>Persian plum textured cotton slim fit panjabi ...</td>\n",
       "      <td>4614 Brown Cotton Cotton Hand Embroidery Chino...</td>\n",
       "    </tr>\n",
       "  </tbody>\n",
       "</table>\n",
       "</div>"
      ],
      "text/plain": [
       "                                              name  price  \\\n",
       "0     Brown Brush Painted and Printed Cotton Coaty   1819   \n",
       "1                Multicolour Textured Cotton Coaty   1335   \n",
       "2          Teal Blue Embroidered Endi Silk Panjabi  10195   \n",
       "3             Purple Embroidered Endi Silk Panjabi   7967   \n",
       "4  Persian Plum Cotton Slim Fit Panjabi Pajama Set   4614   \n",
       "\n",
       "                                       specification  \\\n",
       "0  Cotton Screen Print Band Collar Front Pocket S...   \n",
       "1  Cotton Band Collar Sleeveless Hand Wash With M...   \n",
       "2  Endi Silk Exclusive Hand Embroidery Band Colla...   \n",
       "3  Endi Silk Hand Embroidery Band Collar Side Poc...   \n",
       "4  Brown Cotton Cotton Hand Embroidery Chino Pant...   \n",
       "\n",
       "                                         description  \\\n",
       "0  Brown brush painted cotton coaty with black pr...   \n",
       "1  Dusty pink, maroon and black textured cotton c...   \n",
       "2  Teal blue endi silk panjabi with plum embroide...   \n",
       "3  Purple endi silk panjabi with blue embroidery....   \n",
       "4  Persian plum textured cotton slim fit panjabi ...   \n",
       "\n",
       "                                         all_feature  \n",
       "0  1819 Cotton Screen Print Band Collar Front Poc...  \n",
       "1  1335 Cotton Band Collar Sleeveless Hand Wash W...  \n",
       "2  10195 Endi Silk Exclusive Hand Embroidery Band...  \n",
       "3  7967 Endi Silk Hand Embroidery Band Collar Sid...  \n",
       "4  4614 Brown Cotton Cotton Hand Embroidery Chino...  "
      ]
     },
     "execution_count": 41,
     "metadata": {},
     "output_type": "execute_result"
    }
   ],
   "source": [
    "# concat price , specification and description to creat a new column as all feature\n",
    "filtered_df['all_feature'] = filtered_df['price'].astype(str) + ' ' + filtered_df['specification'] + ' ' + filtered_df['description']\n",
    "filtered_df.head()"
   ]
  },
  {
   "cell_type": "code",
   "execution_count": 46,
   "metadata": {},
   "outputs": [
    {
     "data": {
      "text/plain": [
       "'teal blue embroid endi silk panjabi'"
      ]
     },
     "execution_count": 46,
     "metadata": {},
     "output_type": "execute_result"
    }
   ],
   "source": [
    "# import some other library\n",
    "from nltk.stem.porter import PorterStemmer    # for steming the words in a sentence\n",
    "from nltk import word_tokenize                # for tokenize the word\n",
    "ps = PorterStemmer()\n",
    "text_1 = filtered_df['name'][2]\n",
    "# define a function for tokenize and stemnig the word\n",
    "def tokenize(text):\n",
    "    all_word = word_tokenize(text)\n",
    "    #print(all_word)\n",
    "    words = []\n",
    "    for word in all_word:\n",
    "        words.append(ps.stem(word))\n",
    "    stem_word = ' '.join(words)  \n",
    "      \n",
    "    #print(words) \n",
    "    return stem_word \n",
    "\n",
    "tokenize(text_1)       "
   ]
  },
  {
   "cell_type": "code",
   "execution_count": 50,
   "metadata": {},
   "outputs": [
    {
     "name": "stderr",
     "output_type": "stream",
     "text": [
      "C:\\Users\\WCS\\AppData\\Local\\Temp\\ipykernel_5784\\2334758770.py:1: SettingWithCopyWarning: \n",
      "A value is trying to be set on a copy of a slice from a DataFrame.\n",
      "Try using .loc[row_indexer,col_indexer] = value instead\n",
      "\n",
      "See the caveats in the documentation: https://pandas.pydata.org/pandas-docs/stable/user_guide/indexing.html#returning-a-view-versus-a-copy\n",
      "  filtered_df['all_feature'] = filtered_df['specification'].apply(lambda x: tokenize(x))\n"
     ]
    }
   ],
   "source": [
    "# appling the tokenize function \n",
    "filtered_df['all_feature'] = filtered_df['specification'].apply(lambda x: tokenize(x))"
   ]
  },
  {
   "cell_type": "code",
   "execution_count": 52,
   "metadata": {},
   "outputs": [
    {
     "data": {
      "text/plain": [
       "'cotton screen print band collar front pocket sleeveless short hand wash with mild deterg in cold water'"
      ]
     },
     "execution_count": 52,
     "metadata": {},
     "output_type": "execute_result"
    }
   ],
   "source": [
    "# testing the fuction to work well\n",
    "filtered_df['all_feature'][0]"
   ]
  },
  {
   "cell_type": "code",
   "execution_count": 53,
   "metadata": {},
   "outputs": [],
   "source": [
    "# import some library\n",
    "from sklearn.metrics.pairwise import cosine_similarity           # for determine the distance among the product\n",
    "from sklearn.feature_extraction.text import TfidfVectorizer      # for vectorise the word \n",
    "tfidf = TfidfVectorizer() \n",
    "\n",
    "metrics = tfidf.fit_transform(filtered_df['all_feature'])\n",
    "similarity = cosine_similarity(metrics)"
   ]
  },
  {
   "cell_type": "code",
   "execution_count": 88,
   "metadata": {},
   "outputs": [],
   "source": [
    "# define a function to recommedation the similar product\n",
    "def recommendation(product):\n",
    "    idx = filtered_df[filtered_df['name'] == product].index[0]\n",
    "    distance = sorted(list(enumerate(similarity[idx])), reverse=True, key=lambda x: x[1])\n",
    "    recommended_product_name = []\n",
    "    recommended_product_price = []\n",
    "    for id in distance[1:6]:\n",
    "        recommended_product_name.append(str(filtered_df.iloc[id[0]]['name']))\n",
    "        recommended_product_price.append(str(filtered_df.iloc[id[0]]['price']))\n",
    "    ' '.join(recommended_product_name)\n",
    "    ' '.join(recommended_product_price)  \n",
    "    #return recommended_product_name, recommended_product_price\n",
    "    return pd.DataFrame({'name': recommended_product_name, 'price': recommended_product_price})"
   ]
  },
  {
   "cell_type": "code",
   "execution_count": 89,
   "metadata": {},
   "outputs": [
    {
     "name": "stdout",
     "output_type": "stream",
     "text": [
      "                                                name price\n",
      "0               Purple Embroidered Endi Silk Panjabi  5953\n",
      "1  Moss Green Printed and Embroidered Endi Silk P...  6716\n",
      "2  Chocolate Striped and Embroidered Endi Silk Pa...  5079\n",
      "3  Teal Ombre Dyed and Embroidered Endi Silk Panjabi  5949\n",
      "4         Bronze Brown Embroidered Endi Silk Panjabi  6158\n",
      "                                                name price\n",
      "0     Pink Printed Satin Cotton Slim Fit Short Kurta  1353\n",
      "1                 White Printed Satin Slim Fit Kurta  1386\n",
      "2             White Printed Satin Cotton Short Kurta  1791\n",
      "3            Grey Printed Satin Slim Fit Short Kurta  1521\n",
      "4  Light Cyan Printed Satin Cotton Slim Fit Short...  1316\n"
     ]
    }
   ],
   "source": [
    "# Test the function for optimal performance.\n",
    "text_1 = filtered_df['name'][150]\n",
    "text_2 = filtered_df['name'][3]\n",
    "print(recommendation(text_2))\n",
    "print(recommendation(text_1))"
   ]
  }
 ],
 "metadata": {
  "kernelspec": {
   "display_name": "myenv",
   "language": "python",
   "name": "python3"
  },
  "language_info": {
   "codemirror_mode": {
    "name": "ipython",
    "version": 3
   },
   "file_extension": ".py",
   "mimetype": "text/x-python",
   "name": "python",
   "nbconvert_exporter": "python",
   "pygments_lexer": "ipython3",
   "version": "3.12.1"
  }
 },
 "nbformat": 4,
 "nbformat_minor": 2
}
