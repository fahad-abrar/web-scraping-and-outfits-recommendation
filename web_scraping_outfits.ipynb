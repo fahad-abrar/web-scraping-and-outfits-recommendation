{
 "cells": [
  {
   "cell_type": "code",
   "execution_count": 1,
   "metadata": {},
   "outputs": [],
   "source": [
    "# import all required library\n",
    "import pandas as pd\n",
    "import requests\n",
    "from bs4 import BeautifulSoup"
   ]
  },
  {
   "cell_type": "code",
   "execution_count": 3,
   "metadata": {},
   "outputs": [
    {
     "data": {
      "text/plain": [
       "['https://www.aarong.com/catalog/product/view/id/1858789/s/brown-brush-painted-and-printed-cotton-coaty-03f231104002/category/64/',\n",
       " 'https://www.aarong.com/catalog/product/view/id/1886865/s/multicolour-textured-cotton-coaty-03e231104027/category/64/',\n",
       " 'https://www.aarong.com/catalog/product/view/id/2517635/s/teal-blue-embroidered-endi-silk-panjabi-15e240220163/category/64/',\n",
       " 'https://www.aarong.com/catalog/product/view/id/1848118/s/purple-embroidered-endi-silk-panjabi-15e230232032/category/64/',\n",
       " 'https://www.aarong.com/catalog/product/view/id/1857676/s/persian-plum-cotton-slim-fit-panjabi-pajama-set-15e230360317/category/64/']"
      ]
     },
     "execution_count": 3,
     "metadata": {},
     "output_type": "execute_result"
    }
   ],
   "source": [
    "# define a function for scraping product link\n",
    "def scrape_product_links(url, max_links):\n",
    "    product_links = []\n",
    "    page = 1\n",
    "    while len(product_links) < max_links:\n",
    "        # Send a GET request to the URL\n",
    "        response = requests.get(url.format(page))\n",
    "        # Parse the HTML content\n",
    "        soup = BeautifulSoup(response.content, 'html.parser')\n",
    "        # Find all product links with class 'product-item-link'\n",
    "        all_links = soup.find_all('a', class_='product-item-link')\n",
    "        # Extract product links\n",
    "        for link in all_links:\n",
    "            product_links.append(link['href'])\n",
    "            if len(product_links) == max_links:\n",
    "                break\n",
    "        # Check if there are more pages\n",
    "        next_page_link = soup.find('a', class_='next')\n",
    "        if next_page_link:\n",
    "            page += 1\n",
    "            url = next_page_link['href']\n",
    "        else:\n",
    "            break\n",
    "    return product_links\n",
    "\n",
    "test_url = \"https://www.aarong.com/wedding/men?p={}\"\n",
    "# test the fuction for checking it works well\n",
    "scrape_product_links(test_url, 5)\n"
   ]
  },
  {
   "cell_type": "code",
   "execution_count": 18,
   "metadata": {},
   "outputs": [
    {
     "data": {
      "text/plain": [
       "['https://www.aarong.com/catalog/product/view/id/1858789/s/brown-brush-painted-and-printed-cotton-coaty-03f231104002/category/64/',\n",
       " 'https://www.aarong.com/catalog/product/view/id/1886865/s/multicolour-textured-cotton-coaty-03e231104027/category/64/',\n",
       " 'https://www.aarong.com/catalog/product/view/id/2517635/s/teal-blue-embroidered-endi-silk-panjabi-15e240220163/category/64/',\n",
       " 'https://www.aarong.com/catalog/product/view/id/1848118/s/purple-embroidered-endi-silk-panjabi-15e230232032/category/64/',\n",
       " 'https://www.aarong.com/catalog/product/view/id/1857676/s/persian-plum-cotton-slim-fit-panjabi-pajama-set-15e230360317/category/64/']"
      ]
     },
     "execution_count": 18,
     "metadata": {},
     "output_type": "execute_result"
    }
   ],
   "source": [
    "# use those url for scraping \n",
    "men_url = \"https://www.aarong.com/wedding/men?p={}\"\n",
    "newmen_url = \"https://www.aarong.com/men/men-new-arrivals?p={}\"\n",
    "kurta_url = \"https://www.aarong.com/men/short-kurta?p={}\"\n",
    "kids_url = \"https://www.aarong.com/kids/kids-new-arrivals?p={}\"\n",
    "weddingwomen_url = \"https://www.aarong.com/wedding/women?p={}\"\n",
    "eidwomen_url = 'https://www.aarong.com/eid-24/women?p={}'\n",
    "\n",
    "# url templates for pagination\n",
    "url_list = [men_url, newmen_url, kurta_url, kids_url, weddingwomen_url, eidwomen_url]\n",
    "\n",
    "# scrape at least 5 product links for each URL\n",
    "all_links = []\n",
    "for url in url_list:\n",
    "    links = scrape_product_links(url, 75)\n",
    "    all_links.extend(links)\n",
    "\n",
    "# print the product links for test perpose\n",
    "all_links[:5]"
   ]
  },
  {
   "cell_type": "code",
   "execution_count": 19,
   "metadata": {},
   "outputs": [
    {
     "data": {
      "text/html": [
       "<div>\n",
       "<style scoped>\n",
       "    .dataframe tbody tr th:only-of-type {\n",
       "        vertical-align: middle;\n",
       "    }\n",
       "\n",
       "    .dataframe tbody tr th {\n",
       "        vertical-align: top;\n",
       "    }\n",
       "\n",
       "    .dataframe thead th {\n",
       "        text-align: right;\n",
       "    }\n",
       "</style>\n",
       "<table border=\"1\" class=\"dataframe\">\n",
       "  <thead>\n",
       "    <tr style=\"text-align: right;\">\n",
       "      <th></th>\n",
       "      <th>name</th>\n",
       "      <th>price</th>\n",
       "      <th>specification</th>\n",
       "      <th>description</th>\n",
       "    </tr>\n",
       "  </thead>\n",
       "  <tbody>\n",
       "    <tr>\n",
       "      <th>0</th>\n",
       "      <td>Brown Brush Painted and Printed Cotton Coaty</td>\n",
       "      <td>As low asTk 1,818.60</td>\n",
       "      <td>[Cotton, Screen Print, Band Collar, Front Pock...</td>\n",
       "      <td>Brown brush painted cotton coaty with black pr...</td>\n",
       "    </tr>\n",
       "    <tr>\n",
       "      <th>1</th>\n",
       "      <td>Multicolour Textured Cotton Coaty</td>\n",
       "      <td>As low asTk 1,334.88</td>\n",
       "      <td>[Cotton, Band Collar, Sleeveless, Hand Wash Wi...</td>\n",
       "      <td>Dusty pink, maroon and black textured cotton c...</td>\n",
       "    </tr>\n",
       "    <tr>\n",
       "      <th>2</th>\n",
       "      <td>Teal Blue Embroidered Endi Silk Panjabi</td>\n",
       "      <td>As low asTk 10,195.35</td>\n",
       "      <td>[Endi Silk, Exclusive Hand Embroidery, Band Co...</td>\n",
       "      <td>Teal blue endi silk panjabi with plum embroide...</td>\n",
       "    </tr>\n",
       "    <tr>\n",
       "      <th>3</th>\n",
       "      <td>Purple Embroidered Endi Silk Panjabi</td>\n",
       "      <td>As low asTk 7,967.44</td>\n",
       "      <td>[Endi Silk, Hand Embroidery, Band Collar, Side...</td>\n",
       "      <td>Purple endi silk panjabi with blue embroidery....</td>\n",
       "    </tr>\n",
       "    <tr>\n",
       "      <th>4</th>\n",
       "      <td>Persian Plum Cotton Slim Fit Panjabi Pajama Set</td>\n",
       "      <td>As low asTk 4,613.95</td>\n",
       "      <td>[Brown, Cotton, Cotton, Hand Embroidery, Chino...</td>\n",
       "      <td>Persian plum textured cotton slim fit panjabi ...</td>\n",
       "    </tr>\n",
       "  </tbody>\n",
       "</table>\n",
       "</div>"
      ],
      "text/plain": [
       "                                              name                  price  \\\n",
       "0     Brown Brush Painted and Printed Cotton Coaty   As low asTk 1,818.60   \n",
       "1                Multicolour Textured Cotton Coaty   As low asTk 1,334.88   \n",
       "2          Teal Blue Embroidered Endi Silk Panjabi  As low asTk 10,195.35   \n",
       "3             Purple Embroidered Endi Silk Panjabi   As low asTk 7,967.44   \n",
       "4  Persian Plum Cotton Slim Fit Panjabi Pajama Set   As low asTk 4,613.95   \n",
       "\n",
       "                                       specification  \\\n",
       "0  [Cotton, Screen Print, Band Collar, Front Pock...   \n",
       "1  [Cotton, Band Collar, Sleeveless, Hand Wash Wi...   \n",
       "2  [Endi Silk, Exclusive Hand Embroidery, Band Co...   \n",
       "3  [Endi Silk, Hand Embroidery, Band Collar, Side...   \n",
       "4  [Brown, Cotton, Cotton, Hand Embroidery, Chino...   \n",
       "\n",
       "                                         description  \n",
       "0  Brown brush painted cotton coaty with black pr...  \n",
       "1  Dusty pink, maroon and black textured cotton c...  \n",
       "2  Teal blue endi silk panjabi with plum embroide...  \n",
       "3  Purple endi silk panjabi with blue embroidery....  \n",
       "4  Persian plum textured cotton slim fit panjabi ...  "
      ]
     },
     "execution_count": 19,
     "metadata": {},
     "output_type": "execute_result"
    }
   ],
   "source": [
    "# create a object for storing the data\n",
    "productname = []\n",
    "productprice = []\n",
    "productspecification = []\n",
    "productdescription = []\n",
    "\n",
    "for link in all_links:\n",
    "    try:\n",
    "        # creating a path for scraping the specific information\n",
    "        response = requests.get(link)\n",
    "        soup = BeautifulSoup(response.content, 'html.parser')\n",
    "        main = soup.find('div', class_='page-wrapper')\n",
    "        column = main.find('div', class_='column')\n",
    "        pro_info = column.find('div' , class_ = 'product-info-main')\n",
    "        pro_des  = pro_info.find('div', class_ = 'product info detailed')\n",
    "\n",
    "\n",
    "        # Find product name\n",
    "        pro_name = soup.find('h1', class_='page-title')\n",
    "        if pro_name:\n",
    "            productname.append(pro_name.get_text(strip=True))\n",
    "        else:\n",
    "            productname.append(None)\n",
    "\n",
    "        # Find product price\n",
    "        pro_price = soup.find('div', class_='price-box price-final_price')\n",
    "        if pro_price:\n",
    "            productprice.append(pro_price.get_text(strip=True))\n",
    "        else:\n",
    "            productprice.append(None)\n",
    "\n",
    "        # Find product description\n",
    "        pro_description = soup.find('div', class_='product attribute description').find('div', class_='value')\n",
    "        if pro_description:\n",
    "            productdescription.append(pro_description.get_text(strip=True))\n",
    "        else:\n",
    "            productdescription.append(None)\n",
    "\n",
    "        # Find product specification\n",
    "        pro_specification = soup.find('div', class_='additional-attributes-wrapper table-wrapper').find_all('td', class_='col data')\n",
    "        specification = [spe.get_text(strip=True) for spe in pro_specification]\n",
    "        productspecification.append(specification)\n",
    "\n",
    "    except Exception as e:\n",
    "        print(f'Error scraping {link}: {e}')\n",
    "\n",
    "# create a dataframe as df\n",
    "df = pd.DataFrame({'name': productname, 'price': productprice, 'specification': productspecification, 'description': productdescription})\n",
    "df.head()\n"
   ]
  },
  {
   "cell_type": "code",
   "execution_count": 22,
   "metadata": {},
   "outputs": [],
   "source": [
    "df.to_csv('outfits.csv',index=False)"
   ]
  },
  {
   "cell_type": "code",
   "execution_count": 23,
   "metadata": {},
   "outputs": [
    {
     "data": {
      "text/html": [
       "<div>\n",
       "<style scoped>\n",
       "    .dataframe tbody tr th:only-of-type {\n",
       "        vertical-align: middle;\n",
       "    }\n",
       "\n",
       "    .dataframe tbody tr th {\n",
       "        vertical-align: top;\n",
       "    }\n",
       "\n",
       "    .dataframe thead th {\n",
       "        text-align: right;\n",
       "    }\n",
       "</style>\n",
       "<table border=\"1\" class=\"dataframe\">\n",
       "  <thead>\n",
       "    <tr style=\"text-align: right;\">\n",
       "      <th></th>\n",
       "      <th>name</th>\n",
       "      <th>price</th>\n",
       "      <th>specification</th>\n",
       "      <th>description</th>\n",
       "    </tr>\n",
       "  </thead>\n",
       "  <tbody>\n",
       "    <tr>\n",
       "      <th>0</th>\n",
       "      <td>Brown Brush Painted and Printed Cotton Coaty</td>\n",
       "      <td>As low asTk 1,818.60</td>\n",
       "      <td>['Cotton', 'Screen Print', 'Band Collar', 'Fro...</td>\n",
       "      <td>Brown brush painted cotton coaty with black pr...</td>\n",
       "    </tr>\n",
       "    <tr>\n",
       "      <th>1</th>\n",
       "      <td>Multicolour Textured Cotton Coaty</td>\n",
       "      <td>As low asTk 1,334.88</td>\n",
       "      <td>['Cotton', 'Band Collar', 'Sleeveless', 'Hand ...</td>\n",
       "      <td>Dusty pink, maroon and black textured cotton c...</td>\n",
       "    </tr>\n",
       "    <tr>\n",
       "      <th>2</th>\n",
       "      <td>Teal Blue Embroidered Endi Silk Panjabi</td>\n",
       "      <td>As low asTk 10,195.35</td>\n",
       "      <td>['Endi Silk', 'Exclusive Hand Embroidery', 'Ba...</td>\n",
       "      <td>Teal blue endi silk panjabi with plum embroide...</td>\n",
       "    </tr>\n",
       "    <tr>\n",
       "      <th>3</th>\n",
       "      <td>Purple Embroidered Endi Silk Panjabi</td>\n",
       "      <td>As low asTk 7,967.44</td>\n",
       "      <td>['Endi Silk', 'Hand Embroidery', 'Band Collar'...</td>\n",
       "      <td>Purple endi silk panjabi with blue embroidery....</td>\n",
       "    </tr>\n",
       "    <tr>\n",
       "      <th>4</th>\n",
       "      <td>Persian Plum Cotton Slim Fit Panjabi Pajama Set</td>\n",
       "      <td>As low asTk 4,613.95</td>\n",
       "      <td>['Brown', 'Cotton', 'Cotton', 'Hand Embroidery...</td>\n",
       "      <td>Persian plum textured cotton slim fit panjabi ...</td>\n",
       "    </tr>\n",
       "  </tbody>\n",
       "</table>\n",
       "</div>"
      ],
      "text/plain": [
       "                                              name                  price  \\\n",
       "0     Brown Brush Painted and Printed Cotton Coaty   As low asTk 1,818.60   \n",
       "1                Multicolour Textured Cotton Coaty   As low asTk 1,334.88   \n",
       "2          Teal Blue Embroidered Endi Silk Panjabi  As low asTk 10,195.35   \n",
       "3             Purple Embroidered Endi Silk Panjabi   As low asTk 7,967.44   \n",
       "4  Persian Plum Cotton Slim Fit Panjabi Pajama Set   As low asTk 4,613.95   \n",
       "\n",
       "                                       specification  \\\n",
       "0  ['Cotton', 'Screen Print', 'Band Collar', 'Fro...   \n",
       "1  ['Cotton', 'Band Collar', 'Sleeveless', 'Hand ...   \n",
       "2  ['Endi Silk', 'Exclusive Hand Embroidery', 'Ba...   \n",
       "3  ['Endi Silk', 'Hand Embroidery', 'Band Collar'...   \n",
       "4  ['Brown', 'Cotton', 'Cotton', 'Hand Embroidery...   \n",
       "\n",
       "                                         description  \n",
       "0  Brown brush painted cotton coaty with black pr...  \n",
       "1  Dusty pink, maroon and black textured cotton c...  \n",
       "2  Teal blue endi silk panjabi with plum embroide...  \n",
       "3  Purple endi silk panjabi with blue embroidery....  \n",
       "4  Persian plum textured cotton slim fit panjabi ...  "
      ]
     },
     "execution_count": 23,
     "metadata": {},
     "output_type": "execute_result"
    }
   ],
   "source": [
    "newdf = pd.read_csv('outfits.csv')\n",
    "newdf.head()"
   ]
  },
  {
   "cell_type": "code",
   "execution_count": 25,
   "metadata": {},
   "outputs": [
    {
     "data": {
      "text/plain": [
       "398"
      ]
     },
     "execution_count": 25,
     "metadata": {},
     "output_type": "execute_result"
    }
   ],
   "source": [
    "len(newdf['name'].value_counts())"
   ]
  }
 ],
 "metadata": {
  "kernelspec": {
   "display_name": "myenv",
   "language": "python",
   "name": "python3"
  },
  "language_info": {
   "codemirror_mode": {
    "name": "ipython",
    "version": 3
   },
   "file_extension": ".py",
   "mimetype": "text/x-python",
   "name": "python",
   "nbconvert_exporter": "python",
   "pygments_lexer": "ipython3",
   "version": "3.12.1"
  }
 },
 "nbformat": 4,
 "nbformat_minor": 2
}
